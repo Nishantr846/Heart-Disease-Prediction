{
 "cells": [
  {
   "cell_type": "code",
   "execution_count": 3,
   "id": "a5fae7a0-5843-442e-ab29-ee0c27231d64",
   "metadata": {},
   "outputs": [
    {
     "name": "stdout",
     "output_type": "stream",
     "text": [
      "Training Data Accuracy: 85.12%\n",
      "Test Data Accuracy: 81.97%\n",
      "Person does not have any heart disease\n"
     ]
    },
    {
     "name": "stderr",
     "output_type": "stream",
     "text": [
      "C:\\ProgramData\\anaconda3\\Lib\\site-packages\\sklearn\\linear_model\\_logistic.py:458: ConvergenceWarning: lbfgs failed to converge (status=1):\n",
      "STOP: TOTAL NO. of ITERATIONS REACHED LIMIT.\n",
      "\n",
      "Increase the number of iterations (max_iter) or scale the data as shown in:\n",
      "    https://scikit-learn.org/stable/modules/preprocessing.html\n",
      "Please also refer to the documentation for alternative solver options:\n",
      "    https://scikit-learn.org/stable/modules/linear_model.html#logistic-regression\n",
      "  n_iter_i = _check_optimize_result(\n",
      "C:\\ProgramData\\anaconda3\\Lib\\site-packages\\sklearn\\base.py:439: UserWarning: X does not have valid feature names, but LogisticRegression was fitted with feature names\n",
      "  warnings.warn(\n"
     ]
    }
   ],
   "source": [
    "# Importing all the dependencies\n",
    "import numpy as np\n",
    "import pandas as pd\n",
    "from sklearn.model_selection import train_test_split\n",
    "from sklearn.linear_model import LogisticRegression\n",
    "from sklearn.metrics import accuracy_score\n",
    "\n",
    "# Reading the dataset\n",
    "heart_data = pd.read_csv(r\"C:\\Users\\Nishant\\Desktop\\ML\\Heart Disease Prediction\\data.csv\")\n",
    "\n",
    "# Checking the distribution of target variable\n",
    "heart_data['target'].value_counts()\n",
    "\n",
    "# 1 --> represents Defective Heart\n",
    "# 0 --> represents Healthy Heart\n",
    "\n",
    "# Splitting the Features and Target\n",
    "X = heart_data.drop(columns='target', axis=1)\n",
    "Y = heart_data['target']\n",
    "\n",
    "# Splitting the data into training and testing data\n",
    "X_train, X_test, Y_train, Y_test = train_test_split(X, Y, test_size=0.2, stratify=Y, random_state=2)\n",
    "\n",
    "# Model Training - Logistic Regression\n",
    "model = LogisticRegression()\n",
    "\n",
    "# Training the machine learning model\n",
    "model.fit(X_train, Y_train)\n",
    "\n",
    "# Model Evaluation - Accuracy Score\n",
    "# Accuracy on the training data\n",
    "X_train_prediction = model.predict(X_train)\n",
    "training_data_accuracy = accuracy_score(X_train_prediction, Y_train)\n",
    "\n",
    "# Accuracy on the test data\n",
    "X_test_prediction = model.predict(X_test)\n",
    "test_data_accuracy = accuracy_score(X_test_prediction, Y_test)\n",
    "\n",
    "# Printing accuracies\n",
    "print(f\"Training Data Accuracy: {training_data_accuracy * 100:.2f}%\")\n",
    "print(f\"Test Data Accuracy: {test_data_accuracy * 100:.2f}%\")\n",
    "\n",
    "# Building a Predictive System\n",
    "input_data = (65, 0, 0, 150, 225, 0, 0, 114, 0, 1, 1, 3, 3)\n",
    "\n",
    "# Changing the input data into a numpy array\n",
    "input_data_as_numpy_array = np.asarray(input_data)\n",
    "\n",
    "# Reshaping the numpy array as we are predicting for only one instance\n",
    "input_data_reshaped = input_data_as_numpy_array.reshape(1, -1)\n",
    "\n",
    "# Making a prediction\n",
    "prediction = model.predict(input_data_reshaped)\n",
    "\n",
    "if prediction[0] == 0:\n",
    "    print(\"Person does not have any heart disease\")\n",
    "else:\n",
    "    print(\"Person has heart disease\")\n"
   ]
  },
  {
   "cell_type": "markdown",
   "id": "2d3c8ea6",
   "metadata": {},
   "source": []
  },
  {
   "cell_type": "code",
   "execution_count": null,
   "id": "2924a3a3-a178-4507-ad07-59d7baaa4ff3",
   "metadata": {},
   "outputs": [],
   "source": []
  }
 ],
 "metadata": {
  "kernelspec": {
   "display_name": "Python 3 (ipykernel)",
   "language": "python",
   "name": "python3"
  },
  "language_info": {
   "codemirror_mode": {
    "name": "ipython",
    "version": 3
   },
   "file_extension": ".py",
   "mimetype": "text/x-python",
   "name": "python",
   "nbconvert_exporter": "python",
   "pygments_lexer": "ipython3",
   "version": "3.11.7"
  }
 },
 "nbformat": 4,
 "nbformat_minor": 5
}
